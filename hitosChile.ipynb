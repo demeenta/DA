{
 "cells": [
  {
   "cell_type": "markdown",
   "metadata": {},
   "source": [
    "# Trabajando Columnas (Series) en Pandas"
   ]
  },
  {
   "cell_type": "markdown",
   "metadata": {},
   "source": [
    "El siguiente trabajo, muestra las opciones que se pueden realizar con los diccionarios de datos que se obtienen de un archivo."
   ]
  },
  {
   "cell_type": "code",
   "execution_count": 1,
   "metadata": {},
   "outputs": [
    {
     "name": "stdout",
     "output_type": "stream",
     "text": [
      "Pandas version: 0.22.0\n"
     ]
    }
   ],
   "source": [
    "#libreria pandas: http://pandas.pydata.org\n",
    "import pandas as pd\n",
    "print('Pandas version: ' + pd.__version__)"
   ]
  },
  {
   "cell_type": "code",
   "execution_count": 2,
   "metadata": {},
   "outputs": [
    {
     "name": "stdout",
     "output_type": "stream",
     "text": [
      "0.22.0\n"
     ]
    }
   ],
   "source": [
    "print(pd.__version__)"
   ]
  },
  {
   "cell_type": "markdown",
   "metadata": {},
   "source": [
    "Cómo leemos un archivo csv en pandas?"
   ]
  },
  {
   "cell_type": "code",
   "execution_count": 3,
   "metadata": {},
   "outputs": [],
   "source": [
    "hitosChile = pd.read_csv('HitosChile.csv', sep=';')"
   ]
  },
  {
   "cell_type": "markdown",
   "metadata": {},
   "source": [
    "Cómo es el archivo?"
   ]
  },
  {
   "cell_type": "code",
   "execution_count": 4,
   "metadata": {},
   "outputs": [
    {
     "data": {
      "text/html": [
       "<div>\n",
       "<style scoped>\n",
       "    .dataframe tbody tr th:only-of-type {\n",
       "        vertical-align: middle;\n",
       "    }\n",
       "\n",
       "    .dataframe tbody tr th {\n",
       "        vertical-align: top;\n",
       "    }\n",
       "\n",
       "    .dataframe thead th {\n",
       "        text-align: right;\n",
       "    }\n",
       "</style>\n",
       "<table border=\"1\" class=\"dataframe\">\n",
       "  <thead>\n",
       "    <tr style=\"text-align: right;\">\n",
       "      <th></th>\n",
       "      <th>Sección</th>\n",
       "      <th>Hito</th>\n",
       "      <th>Tipo</th>\n",
       "      <th>Fecha de erección</th>\n",
       "      <th>Latitud aprox</th>\n",
       "      <th>Longitud aprox</th>\n",
       "      <th>Cota del suelo aprox (metros)</th>\n",
       "      <th>Datum</th>\n",
       "      <th>Región</th>\n",
       "      <th>Provincia</th>\n",
       "      <th>Comuna</th>\n",
       "      <th>Observaciones</th>\n",
       "    </tr>\n",
       "  </thead>\n",
       "  <tbody>\n",
       "    <tr>\n",
       "      <th>0</th>\n",
       "      <td>I</td>\n",
       "      <td>I</td>\n",
       "      <td>Hierro, pirámide de base cuadrada, de 5,4 m. d...</td>\n",
       "      <td>2 de febrero de 1894</td>\n",
       "      <td>52° 39' 32\" S</td>\n",
       "      <td>68°36' 28\" O</td>\n",
       "      <td>55,2</td>\n",
       "      <td>Pilar Astronómico Hito XVIII.</td>\n",
       "      <td>De Magallanes y Antártica Chilena.</td>\n",
       "      <td>Tierra del Fuego.</td>\n",
       "      <td>Primavera.</td>\n",
       "      <td>El hito se encuentra ubicado en el Cabo Espíri...</td>\n",
       "    </tr>\n",
       "    <tr>\n",
       "      <th>1</th>\n",
       "      <td>I</td>\n",
       "      <td>II</td>\n",
       "      <td>Hierro, pirámide de base cuadrada, de 5,0 m. d...</td>\n",
       "      <td>19 de febrero de 1894</td>\n",
       "      <td>52° 44' 49'' S</td>\n",
       "      <td>68° 36' 28\" O</td>\n",
       "      <td>112,1</td>\n",
       "      <td>Pilar Astronómico Hito XVIII.</td>\n",
       "      <td>De Magallanes y Antártica Chilena.</td>\n",
       "      <td>Tierra del Fuego.</td>\n",
       "      <td>Primavera.</td>\n",
       "      <td>El hito se encuentra ubicado aproximadamente a...</td>\n",
       "    </tr>\n",
       "  </tbody>\n",
       "</table>\n",
       "</div>"
      ],
      "text/plain": [
       "  Sección Hito                                               Tipo  \\\n",
       "0       I    I  Hierro, pirámide de base cuadrada, de 5,4 m. d...   \n",
       "1       I   II  Hierro, pirámide de base cuadrada, de 5,0 m. d...   \n",
       "\n",
       "       Fecha de erección   Latitud aprox Longitud aprox  \\\n",
       "0   2 de febrero de 1894   52° 39' 32\" S   68°36' 28\" O   \n",
       "1  19 de febrero de 1894  52° 44' 49'' S  68° 36' 28\" O   \n",
       "\n",
       "  Cota del suelo aprox (metros)                          Datum  \\\n",
       "0                          55,2  Pilar Astronómico Hito XVIII.   \n",
       "1                         112,1  Pilar Astronómico Hito XVIII.   \n",
       "\n",
       "                               Región          Provincia      Comuna  \\\n",
       "0  De Magallanes y Antártica Chilena.  Tierra del Fuego.  Primavera.   \n",
       "1  De Magallanes y Antártica Chilena.  Tierra del Fuego.  Primavera.   \n",
       "\n",
       "                                       Observaciones  \n",
       "0  El hito se encuentra ubicado en el Cabo Espíri...  \n",
       "1  El hito se encuentra ubicado aproximadamente a...  "
      ]
     },
     "execution_count": 4,
     "metadata": {},
     "output_type": "execute_result"
    }
   ],
   "source": [
    "hitosChile.head(2)"
   ]
  },
  {
   "cell_type": "code",
   "execution_count": 5,
   "metadata": {},
   "outputs": [
    {
     "data": {
      "text/html": [
       "<div>\n",
       "<style scoped>\n",
       "    .dataframe tbody tr th:only-of-type {\n",
       "        vertical-align: middle;\n",
       "    }\n",
       "\n",
       "    .dataframe tbody tr th {\n",
       "        vertical-align: top;\n",
       "    }\n",
       "\n",
       "    .dataframe thead th {\n",
       "        text-align: right;\n",
       "    }\n",
       "</style>\n",
       "<table border=\"1\" class=\"dataframe\">\n",
       "  <thead>\n",
       "    <tr style=\"text-align: right;\">\n",
       "      <th></th>\n",
       "      <th>Sección</th>\n",
       "      <th>Hito</th>\n",
       "      <th>Tipo</th>\n",
       "      <th>Fecha de erección</th>\n",
       "      <th>Latitud aprox</th>\n",
       "      <th>Longitud aprox</th>\n",
       "      <th>Cota del suelo aprox (metros)</th>\n",
       "      <th>Datum</th>\n",
       "      <th>Región</th>\n",
       "      <th>Provincia</th>\n",
       "      <th>Comuna</th>\n",
       "      <th>Observaciones</th>\n",
       "    </tr>\n",
       "  </thead>\n",
       "  <tbody>\n",
       "    <tr>\n",
       "      <th>53</th>\n",
       "      <td>II</td>\n",
       "      <td>XXIV</td>\n",
       "      <td>Hierro, pirámide de sección cuadrangular, de 5...</td>\n",
       "      <td>5 de abril de 1898.</td>\n",
       "      <td>52° 00' 00'' S</td>\n",
       "      <td>70° 33' 10\" O</td>\n",
       "      <td>193,0</td>\n",
       "      <td>Punto Astronómico Hito XXII.</td>\n",
       "      <td>De Magallanes y Antártica Chilena.</td>\n",
       "      <td>Magallanes.</td>\n",
       "      <td>San Gregorio.</td>\n",
       "      <td>El Hito II-XXIV se encuentra al norte del Estr...</td>\n",
       "    </tr>\n",
       "    <tr>\n",
       "      <th>169</th>\n",
       "      <td>VI</td>\n",
       "      <td>9</td>\n",
       "      <td>Hierro, pirámide de sección triangular de 2,8 ...</td>\n",
       "      <td>16 de febrero de 1943.</td>\n",
       "      <td>45° 31' 22\" S</td>\n",
       "      <td>71° 33' 23\" O</td>\n",
       "      <td>794,6</td>\n",
       "      <td>Extremo Este Base Valle Huemules</td>\n",
       "      <td>Aysén del General Carlos Ibáñez del Campo.</td>\n",
       "      <td>Coyhaique.</td>\n",
       "      <td>Coyhaique.</td>\n",
       "      <td>El Hito VI-9 se encuentra en el divortium aqua...</td>\n",
       "    </tr>\n",
       "  </tbody>\n",
       "</table>\n",
       "</div>"
      ],
      "text/plain": [
       "    Sección  Hito                                               Tipo  \\\n",
       "53       II  XXIV  Hierro, pirámide de sección cuadrangular, de 5...   \n",
       "169      VI     9  Hierro, pirámide de sección triangular de 2,8 ...   \n",
       "\n",
       "          Fecha de erección   Latitud aprox Longitud aprox  \\\n",
       "53      5 de abril de 1898.  52° 00' 00'' S  70° 33' 10\" O   \n",
       "169  16 de febrero de 1943.   45° 31' 22\" S  71° 33' 23\" O   \n",
       "\n",
       "    Cota del suelo aprox (metros)                             Datum  \\\n",
       "53                          193,0      Punto Astronómico Hito XXII.   \n",
       "169                         794,6  Extremo Este Base Valle Huemules   \n",
       "\n",
       "                                         Región    Provincia         Comuna  \\\n",
       "53           De Magallanes y Antártica Chilena.  Magallanes.  San Gregorio.   \n",
       "169  Aysén del General Carlos Ibáñez del Campo.   Coyhaique.     Coyhaique.   \n",
       "\n",
       "                                         Observaciones  \n",
       "53   El Hito II-XXIV se encuentra al norte del Estr...  \n",
       "169  El Hito VI-9 se encuentra en el divortium aqua...  "
      ]
     },
     "execution_count": 5,
     "metadata": {},
     "output_type": "execute_result"
    }
   ],
   "source": [
    "hitosChile.sample(2)"
   ]
  },
  {
   "cell_type": "code",
   "execution_count": 6,
   "metadata": {},
   "outputs": [
    {
     "data": {
      "text/html": [
       "<div>\n",
       "<style scoped>\n",
       "    .dataframe tbody tr th:only-of-type {\n",
       "        vertical-align: middle;\n",
       "    }\n",
       "\n",
       "    .dataframe tbody tr th {\n",
       "        vertical-align: top;\n",
       "    }\n",
       "\n",
       "    .dataframe thead th {\n",
       "        text-align: right;\n",
       "    }\n",
       "</style>\n",
       "<table border=\"1\" class=\"dataframe\">\n",
       "  <thead>\n",
       "    <tr style=\"text-align: right;\">\n",
       "      <th></th>\n",
       "      <th>Sección</th>\n",
       "      <th>Hito</th>\n",
       "      <th>Tipo</th>\n",
       "      <th>Fecha de erección</th>\n",
       "      <th>Latitud aprox</th>\n",
       "      <th>Longitud aprox</th>\n",
       "      <th>Cota del suelo aprox (metros)</th>\n",
       "      <th>Datum</th>\n",
       "      <th>Región</th>\n",
       "      <th>Provincia</th>\n",
       "      <th>Comuna</th>\n",
       "      <th>Observaciones</th>\n",
       "    </tr>\n",
       "  </thead>\n",
       "  <tbody>\n",
       "    <tr>\n",
       "      <th>count</th>\n",
       "      <td>283</td>\n",
       "      <td>283</td>\n",
       "      <td>283</td>\n",
       "      <td>283</td>\n",
       "      <td>283</td>\n",
       "      <td>283</td>\n",
       "      <td>282</td>\n",
       "      <td>283</td>\n",
       "      <td>283</td>\n",
       "      <td>283</td>\n",
       "      <td>283</td>\n",
       "      <td>282</td>\n",
       "    </tr>\n",
       "    <tr>\n",
       "      <th>unique</th>\n",
       "      <td>7</td>\n",
       "      <td>209</td>\n",
       "      <td>70</td>\n",
       "      <td>185</td>\n",
       "      <td>266</td>\n",
       "      <td>260</td>\n",
       "      <td>274</td>\n",
       "      <td>15</td>\n",
       "      <td>6</td>\n",
       "      <td>13</td>\n",
       "      <td>22</td>\n",
       "      <td>280</td>\n",
       "    </tr>\n",
       "    <tr>\n",
       "      <th>top</th>\n",
       "      <td>VI</td>\n",
       "      <td>3</td>\n",
       "      <td>Hierro</td>\n",
       "      <td>15 de abril de 1896.</td>\n",
       "      <td>51° 59' 59'' S</td>\n",
       "      <td>68° 36' 28\" O</td>\n",
       "      <td>431</td>\n",
       "      <td>Extremo Sur Base Lago General Paz</td>\n",
       "      <td>De Magallanes y Antártica Chilena.</td>\n",
       "      <td>Coyhaique.</td>\n",
       "      <td>Lago Verde</td>\n",
       "      <td>El hito fue erigido por los Delegados de Chile...</td>\n",
       "    </tr>\n",
       "    <tr>\n",
       "      <th>freq</th>\n",
       "      <td>74</td>\n",
       "      <td>5</td>\n",
       "      <td>65</td>\n",
       "      <td>13</td>\n",
       "      <td>13</td>\n",
       "      <td>7</td>\n",
       "      <td>2</td>\n",
       "      <td>81</td>\n",
       "      <td>109</td>\n",
       "      <td>51</td>\n",
       "      <td>37</td>\n",
       "      <td>2</td>\n",
       "    </tr>\n",
       "  </tbody>\n",
       "</table>\n",
       "</div>"
      ],
      "text/plain": [
       "       Sección Hito    Tipo     Fecha de erección   Latitud aprox  \\\n",
       "count      283  283     283                   283             283   \n",
       "unique       7  209      70                   185             266   \n",
       "top         VI    3  Hierro  15 de abril de 1896.  51° 59' 59'' S   \n",
       "freq        74    5      65                    13              13   \n",
       "\n",
       "       Longitud aprox Cota del suelo aprox (metros)  \\\n",
       "count             283                           282   \n",
       "unique            260                           274   \n",
       "top     68° 36' 28\" O                           431   \n",
       "freq                7                             2   \n",
       "\n",
       "                                    Datum                              Región  \\\n",
       "count                                 283                                 283   \n",
       "unique                                 15                                   6   \n",
       "top     Extremo Sur Base Lago General Paz  De Magallanes y Antártica Chilena.   \n",
       "freq                                   81                                 109   \n",
       "\n",
       "         Provincia      Comuna  \\\n",
       "count          283         283   \n",
       "unique          13          22   \n",
       "top     Coyhaique.  Lago Verde   \n",
       "freq            51          37   \n",
       "\n",
       "                                            Observaciones  \n",
       "count                                                 282  \n",
       "unique                                                280  \n",
       "top     El hito fue erigido por los Delegados de Chile...  \n",
       "freq                                                    2  "
      ]
     },
     "execution_count": 6,
     "metadata": {},
     "output_type": "execute_result"
    }
   ],
   "source": [
    "hitosChile.describe()"
   ]
  },
  {
   "cell_type": "markdown",
   "metadata": {},
   "source": [
    "**count**: Nos damos cuenta, que no todas las columnas tienen la misma cantidad de datos, entonces algunas filas, tienen una columna vacia/nula/blanca\n",
    "\n",
    "**unique**: Al contar la cantidad de datos unicos, nos da cuenta de los elementos disponibles, por ejemplo 6 regiones. Aunque probablemente, algunas se repitan, pero si hay una diferencia de un caracter, cuentan como distintas.\n",
    "\n",
    "Por tanto, nos damos cuenta que hay que hacer una limpieza previa (ETL, por ejemplo)\n",
    "\n",
    "**top**: Los datos que más aparecen\n",
    "\n",
    "**frecuencia**: Cantidad de veces que aparecen los datos más repetidos"
   ]
  },
  {
   "cell_type": "code",
   "execution_count": 7,
   "metadata": {},
   "outputs": [
    {
     "data": {
      "text/plain": [
       "Sección                          object\n",
       "Hito                             object\n",
       "Tipo                             object\n",
       "Fecha de erección                object\n",
       "Latitud aprox                    object\n",
       "Longitud aprox                   object\n",
       "Cota del suelo aprox (metros)    object\n",
       "Datum                            object\n",
       "Región                           object\n",
       "Provincia                        object\n",
       "Comuna                           object\n",
       "Observaciones                    object\n",
       "dtype: object"
      ]
     },
     "execution_count": 7,
     "metadata": {},
     "output_type": "execute_result"
    }
   ],
   "source": [
    "#Tipos de datos en la tabla\n",
    "hitosChile.dtypes"
   ]
  },
  {
   "cell_type": "code",
   "execution_count": 8,
   "metadata": {},
   "outputs": [
    {
     "data": {
      "text/plain": [
       "Index(['Sección', 'Hito', 'Tipo', 'Fecha de erección', 'Latitud aprox',\n",
       "       'Longitud aprox', 'Cota del suelo aprox (metros)', 'Datum', 'Región',\n",
       "       'Provincia', 'Comuna', 'Observaciones'],\n",
       "      dtype='object')"
      ]
     },
     "execution_count": 8,
     "metadata": {},
     "output_type": "execute_result"
    }
   ],
   "source": [
    "hitosChile.columns"
   ]
  },
  {
   "cell_type": "code",
   "execution_count": 9,
   "metadata": {},
   "outputs": [],
   "source": [
    "hitosChile.columns = ['Seccion', 'Hito', 'Tipo', 'FechaEreccion', 'LatitudAprox',\n",
    "       'LongitudAprox', 'CotaSueloAprox', 'Datum', 'Region',\n",
    "       'Provincia', 'Comuna', 'Observaciones']"
   ]
  },
  {
   "cell_type": "code",
   "execution_count": 10,
   "metadata": {},
   "outputs": [
    {
     "data": {
      "text/plain": [
       "Index(['Seccion', 'Hito', 'Tipo', 'FechaEreccion', 'LatitudAprox',\n",
       "       'LongitudAprox', 'CotaSueloAprox', 'Datum', 'Region', 'Provincia',\n",
       "       'Comuna', 'Observaciones'],\n",
       "      dtype='object')"
      ]
     },
     "execution_count": 10,
     "metadata": {},
     "output_type": "execute_result"
    }
   ],
   "source": [
    "hitosChile.columns"
   ]
  },
  {
   "cell_type": "code",
   "execution_count": 11,
   "metadata": {},
   "outputs": [
    {
     "data": {
      "text/plain": [
       "38        84,1\n",
       "166    1.045,7\n",
       "134      326,9\n",
       "64       175,0\n",
       "190    1.428,0\n",
       "Name: CotaSueloAprox, dtype: object"
      ]
     },
     "execution_count": 11,
     "metadata": {},
     "output_type": "execute_result"
    }
   ],
   "source": [
    "hitosChile['CotaSueloAprox'].sample(5)"
   ]
  },
  {
   "cell_type": "code",
   "execution_count": 12,
   "metadata": {},
   "outputs": [
    {
     "data": {
      "text/plain": [
       "dtype('O')"
      ]
     },
     "execution_count": 12,
     "metadata": {},
     "output_type": "execute_result"
    }
   ],
   "source": [
    "hitosChile['CotaSueloAprox'].dtype"
   ]
  },
  {
   "cell_type": "markdown",
   "metadata": {},
   "source": [
    "No hay tipo conocido, pero es un número... fijarse que el número está con coma, y un flotante válido es con punto. Reemplacemos!"
   ]
  },
  {
   "cell_type": "code",
   "execution_count": 13,
   "metadata": {},
   "outputs": [],
   "source": [
    "hitosChile['CotaSueloAprox'] = hitosChile['CotaSueloAprox'].str.replace('.','')\n",
    "\n",
    "\n",
    "\n",
    "hitosChile['CotaSueloAprox'] = hitosChile['CotaSueloAprox'].str.replace(',','.')"
   ]
  },
  {
   "cell_type": "code",
   "execution_count": 14,
   "metadata": {},
   "outputs": [
    {
     "data": {
      "text/plain": [
       "277      461\n",
       "123    759.0\n",
       "160    832.8\n",
       "273      927\n",
       "5      178.7\n",
       "Name: CotaSueloAprox, dtype: object"
      ]
     },
     "execution_count": 14,
     "metadata": {},
     "output_type": "execute_result"
    }
   ],
   "source": [
    "hitosChile['CotaSueloAprox'].sample(5)"
   ]
  },
  {
   "cell_type": "code",
   "execution_count": 15,
   "metadata": {},
   "outputs": [
    {
     "data": {
      "text/plain": [
       "dtype('O')"
      ]
     },
     "execution_count": 15,
     "metadata": {},
     "output_type": "execute_result"
    }
   ],
   "source": [
    "hitosChile['CotaSueloAprox'].dtype"
   ]
  },
  {
   "cell_type": "code",
   "execution_count": 16,
   "metadata": {},
   "outputs": [],
   "source": [
    "hitosChile['CotaSueloAprox'] = pd.to_numeric(hitosChile['CotaSueloAprox'])"
   ]
  },
  {
   "cell_type": "code",
   "execution_count": 17,
   "metadata": {},
   "outputs": [
    {
     "data": {
      "text/plain": [
       "dtype('float64')"
      ]
     },
     "execution_count": 17,
     "metadata": {},
     "output_type": "execute_result"
    }
   ],
   "source": [
    "hitosChile['CotaSueloAprox'].dtype"
   ]
  },
  {
   "cell_type": "markdown",
   "metadata": {},
   "source": [
    "Más análisis..."
   ]
  },
  {
   "cell_type": "code",
   "execution_count": 18,
   "metadata": {},
   "outputs": [
    {
     "data": {
      "text/plain": [
       "3706.0"
      ]
     },
     "execution_count": 18,
     "metadata": {},
     "output_type": "execute_result"
    }
   ],
   "source": [
    "hitosChile['CotaSueloAprox'].max()"
   ]
  },
  {
   "cell_type": "code",
   "execution_count": 19,
   "metadata": {},
   "outputs": [
    {
     "data": {
      "text/plain": [
       "4.9"
      ]
     },
     "execution_count": 19,
     "metadata": {},
     "output_type": "execute_result"
    }
   ],
   "source": [
    "hitosChile['CotaSueloAprox'].min()"
   ]
  },
  {
   "cell_type": "code",
   "execution_count": 20,
   "metadata": {},
   "outputs": [
    {
     "data": {
      "text/plain": [
       "3706.0"
      ]
     },
     "execution_count": 20,
     "metadata": {},
     "output_type": "execute_result"
    }
   ],
   "source": [
    "hitosChile['CotaSueloAprox'].max()"
   ]
  },
  {
   "cell_type": "code",
   "execution_count": 21,
   "metadata": {},
   "outputs": [],
   "source": [
    "Sorted = hitosChile.sort_values(['CotaSueloAprox'], ascending=False)"
   ]
  },
  {
   "cell_type": "code",
   "execution_count": 22,
   "metadata": {},
   "outputs": [
    {
     "data": {
      "text/html": [
       "<div>\n",
       "<style scoped>\n",
       "    .dataframe tbody tr th:only-of-type {\n",
       "        vertical-align: middle;\n",
       "    }\n",
       "\n",
       "    .dataframe tbody tr th {\n",
       "        vertical-align: top;\n",
       "    }\n",
       "\n",
       "    .dataframe thead th {\n",
       "        text-align: right;\n",
       "    }\n",
       "</style>\n",
       "<table border=\"1\" class=\"dataframe\">\n",
       "  <thead>\n",
       "    <tr style=\"text-align: right;\">\n",
       "      <th></th>\n",
       "      <th>Seccion</th>\n",
       "      <th>Hito</th>\n",
       "      <th>Tipo</th>\n",
       "      <th>FechaEreccion</th>\n",
       "      <th>LatitudAprox</th>\n",
       "      <th>LongitudAprox</th>\n",
       "      <th>CotaSueloAprox</th>\n",
       "      <th>Datum</th>\n",
       "      <th>Region</th>\n",
       "      <th>Provincia</th>\n",
       "      <th>Comuna</th>\n",
       "      <th>Observaciones</th>\n",
       "    </tr>\n",
       "  </thead>\n",
       "  <tbody>\n",
       "    <tr>\n",
       "      <th>112</th>\n",
       "      <td>V</td>\n",
       "      <td>Monte San Lorenzo o Cochrane</td>\n",
       "      <td>Hito Natural, Monte San Lorenzo o Cochrane.</td>\n",
       "      <td>Declarado Hito Natural el 2 de abril de 1946.</td>\n",
       "      <td>47° 35' 32'' S</td>\n",
       "      <td>72° 18' 31'' O</td>\n",
       "      <td>3706.0</td>\n",
       "      <td>Extremo Sur Base Lago Belgrano.</td>\n",
       "      <td>Aysén del General Carlos Ibáñez del Campo.</td>\n",
       "      <td>Capitán Prat.</td>\n",
       "      <td>Cochrane.</td>\n",
       "      <td>La cumbre del Monte San Lorenzo o Cochrane se ...</td>\n",
       "    </tr>\n",
       "    <tr>\n",
       "      <th>129</th>\n",
       "      <td>V</td>\n",
       "      <td>Pico Triangular Sur</td>\n",
       "      <td>Hito Natural, Pico Triangular Sur</td>\n",
       "      <td>2 de abril de 1946 (Declaración de Hito Natural)</td>\n",
       "      <td>46° 59' 09'' S</td>\n",
       "      <td>71° 55' 03'' O</td>\n",
       "      <td>2588.4</td>\n",
       "      <td>Extremo Este Base Valle Huemules</td>\n",
       "      <td>Aysén del General Carlos Ibáñez del Campo</td>\n",
       "      <td>Capitán Prat</td>\n",
       "      <td>Cochrane</td>\n",
       "      <td>El Hito Natural Pico Triangular Sur se encuent...</td>\n",
       "    </tr>\n",
       "    <tr>\n",
       "      <th>256</th>\n",
       "      <td>VII</td>\n",
       "      <td>Hito Natural Co. Conico</td>\n",
       "      <td>Natural</td>\n",
       "      <td>10 de marzo de 1948</td>\n",
       "      <td>43° 15' 39\" S</td>\n",
       "      <td>71° 44' 49\" O</td>\n",
       "      <td>2271.0</td>\n",
       "      <td>Extremo Sur Base Lago General Paz</td>\n",
       "      <td>Región de Los Lagos</td>\n",
       "      <td>Palena</td>\n",
       "      <td>Futaleufú</td>\n",
       "      <td>El hito Natural Co. Cónico fue declarado así e...</td>\n",
       "    </tr>\n",
       "    <tr>\n",
       "      <th>128</th>\n",
       "      <td>V</td>\n",
       "      <td>Cerro Baker</td>\n",
       "      <td>Hito Natural, Cerro Baker</td>\n",
       "      <td>2 de abril de 1946 (Declaración de Hito Natural).</td>\n",
       "      <td>47° 05' 59'' S</td>\n",
       "      <td>71° 54' 51'' O</td>\n",
       "      <td>2229.8</td>\n",
       "      <td>Extremo Sur Base Lago Belgrano</td>\n",
       "      <td>Aysén del General Carlos Ibáñez del Campo</td>\n",
       "      <td>Capitán Prat</td>\n",
       "      <td>Cochrane</td>\n",
       "      <td>El Hito Natural Cerro Baker se encuentra en la...</td>\n",
       "    </tr>\n",
       "    <tr>\n",
       "      <th>111</th>\n",
       "      <td>V</td>\n",
       "      <td>Cerro W</td>\n",
       "      <td>Hito Natural, Cerro W.</td>\n",
       "      <td>Declarado Hito Natural, el 2 de abril de 1946.</td>\n",
       "      <td>47° 44' 05'' S</td>\n",
       "      <td>72° 26' 05'' O</td>\n",
       "      <td>2207.0</td>\n",
       "      <td>Extremo Sur Base Lago Belgrano.</td>\n",
       "      <td>Aysén del general Carlos Ibañez del Campo.</td>\n",
       "      <td>Capítán Prat.</td>\n",
       "      <td>Cochrane.</td>\n",
       "      <td>La cumbre del Cerro W se encuentra en la divis...</td>\n",
       "    </tr>\n",
       "    <tr>\n",
       "      <th>218</th>\n",
       "      <td>VI</td>\n",
       "      <td>38 Cerro Steffen</td>\n",
       "      <td>Natural</td>\n",
       "      <td>18 de mayo de 1944</td>\n",
       "      <td>44° 24' 13\" S</td>\n",
       "      <td>71° 38' 32\" O</td>\n",
       "      <td>2108.0</td>\n",
       "      <td>Extremo Sur Base Lago General Paz</td>\n",
       "      <td>Aysén del General Carlos Ibáñez del Campo.</td>\n",
       "      <td>Coyhaique.</td>\n",
       "      <td>Lago Verde</td>\n",
       "      <td>El Hito Natural VI-38 “Cerro Steffen\" se encue...</td>\n",
       "    </tr>\n",
       "    <tr>\n",
       "      <th>130</th>\n",
       "      <td>V</td>\n",
       "      <td>Cerro Aguila</td>\n",
       "      <td>Hito Natural, Cerro Águila</td>\n",
       "      <td>19 de marzo de 1946 (Declaración de Hito Natural)</td>\n",
       "      <td>46° 51' 26'' S</td>\n",
       "      <td>71° 55' 58'' O</td>\n",
       "      <td>2045.4</td>\n",
       "      <td>Extremo Este Base Valle Huemules</td>\n",
       "      <td>Aysén del General Carlos Ibáñez del Campo</td>\n",
       "      <td>General Carrera</td>\n",
       "      <td>Chile Chico</td>\n",
       "      <td>El Hito Natural Cerro Águila se encuentra en l...</td>\n",
       "    </tr>\n",
       "    <tr>\n",
       "      <th>12</th>\n",
       "      <td>I</td>\n",
       "      <td>XIII</td>\n",
       "      <td>Hierro, pirámide de base cuadrada, de 5,25 m d...</td>\n",
       "      <td>31 de marzo de 1894</td>\n",
       "      <td>53° 32' 57'' S</td>\n",
       "      <td>68° 36' 28\" O</td>\n",
       "      <td>2023.0</td>\n",
       "      <td>Pilar Astronómico Hito XVIII.</td>\n",
       "      <td>De Magallanes y Antártica Chilena.</td>\n",
       "      <td>Tierra del Fuego.</td>\n",
       "      <td>Porvenir.</td>\n",
       "      <td>El hito se encuentra ubicado aproximadamente a...</td>\n",
       "    </tr>\n",
       "    <tr>\n",
       "      <th>118</th>\n",
       "      <td>V</td>\n",
       "      <td>Cerro Brown</td>\n",
       "      <td>Hito Natural, Cerro Brown</td>\n",
       "      <td>2 de abril de 1946 (Declarado Hito Natural).</td>\n",
       "      <td>47° 20' 07\" S</td>\n",
       "      <td>72° 04' 30\" O</td>\n",
       "      <td>1969.8</td>\n",
       "      <td>Extremo Sur Base Lago Belgrano.</td>\n",
       "      <td>Aysén del General Carlos Ibañez del Campo.</td>\n",
       "      <td>Capitán Prat.</td>\n",
       "      <td>Cochrane.</td>\n",
       "      <td>El Hito Natural Cerro Brown se encuentra en el...</td>\n",
       "    </tr>\n",
       "    <tr>\n",
       "      <th>110</th>\n",
       "      <td>V</td>\n",
       "      <td>Cerro Tres Hermanos Sur</td>\n",
       "      <td>Hito Natural, Cerro Tres Hermanos Sur.</td>\n",
       "      <td>Declarado Hito Natural el 2 de abril de 1946.</td>\n",
       "      <td>47° 48' 05'' S</td>\n",
       "      <td>72° 29' 26'' O</td>\n",
       "      <td>1960.0</td>\n",
       "      <td>Extremo Sur Base Lago Belgrano.</td>\n",
       "      <td>Aysén del general Carlos Ibañez del Campo.</td>\n",
       "      <td>Capítán Prat.</td>\n",
       "      <td>Cochrane.</td>\n",
       "      <td>La cumbre del Cerro Tres Hermanos Sur se encue...</td>\n",
       "    </tr>\n",
       "  </tbody>\n",
       "</table>\n",
       "</div>"
      ],
      "text/plain": [
       "    Seccion                          Hito  \\\n",
       "112       V  Monte San Lorenzo o Cochrane   \n",
       "129       V           Pico Triangular Sur   \n",
       "256     VII       Hito Natural Co. Conico   \n",
       "128       V                   Cerro Baker   \n",
       "111       V                       Cerro W   \n",
       "218      VI              38 Cerro Steffen   \n",
       "130       V                  Cerro Aguila   \n",
       "12        I                          XIII   \n",
       "118       V                   Cerro Brown   \n",
       "110       V       Cerro Tres Hermanos Sur   \n",
       "\n",
       "                                                  Tipo  \\\n",
       "112        Hito Natural, Monte San Lorenzo o Cochrane.   \n",
       "129                  Hito Natural, Pico Triangular Sur   \n",
       "256                                            Natural   \n",
       "128                          Hito Natural, Cerro Baker   \n",
       "111                             Hito Natural, Cerro W.   \n",
       "218                                            Natural   \n",
       "130                         Hito Natural, Cerro Águila   \n",
       "12   Hierro, pirámide de base cuadrada, de 5,25 m d...   \n",
       "118                          Hito Natural, Cerro Brown   \n",
       "110             Hito Natural, Cerro Tres Hermanos Sur.   \n",
       "\n",
       "                                         FechaEreccion    LatitudAprox  \\\n",
       "112      Declarado Hito Natural el 2 de abril de 1946.  47° 35' 32'' S   \n",
       "129   2 de abril de 1946 (Declaración de Hito Natural)  46° 59' 09'' S   \n",
       "256                                10 de marzo de 1948   43° 15' 39\" S   \n",
       "128  2 de abril de 1946 (Declaración de Hito Natural).  47° 05' 59'' S   \n",
       "111     Declarado Hito Natural, el 2 de abril de 1946.  47° 44' 05'' S   \n",
       "218                                 18 de mayo de 1944   44° 24' 13\" S   \n",
       "130  19 de marzo de 1946 (Declaración de Hito Natural)  46° 51' 26'' S   \n",
       "12                                 31 de marzo de 1894  53° 32' 57'' S   \n",
       "118       2 de abril de 1946 (Declarado Hito Natural).   47° 20' 07\" S   \n",
       "110      Declarado Hito Natural el 2 de abril de 1946.  47° 48' 05'' S   \n",
       "\n",
       "      LongitudAprox  CotaSueloAprox                              Datum  \\\n",
       "112  72° 18' 31'' O          3706.0    Extremo Sur Base Lago Belgrano.   \n",
       "129  71° 55' 03'' O          2588.4   Extremo Este Base Valle Huemules   \n",
       "256   71° 44' 49\" O          2271.0  Extremo Sur Base Lago General Paz   \n",
       "128  71° 54' 51'' O          2229.8     Extremo Sur Base Lago Belgrano   \n",
       "111  72° 26' 05'' O          2207.0    Extremo Sur Base Lago Belgrano.   \n",
       "218   71° 38' 32\" O          2108.0  Extremo Sur Base Lago General Paz   \n",
       "130  71° 55' 58'' O          2045.4   Extremo Este Base Valle Huemules   \n",
       "12    68° 36' 28\" O          2023.0      Pilar Astronómico Hito XVIII.   \n",
       "118   72° 04' 30\" O          1969.8    Extremo Sur Base Lago Belgrano.   \n",
       "110  72° 29' 26'' O          1960.0    Extremo Sur Base Lago Belgrano.   \n",
       "\n",
       "                                         Region          Provincia  \\\n",
       "112  Aysén del General Carlos Ibáñez del Campo.      Capitán Prat.   \n",
       "129   Aysén del General Carlos Ibáñez del Campo       Capitán Prat   \n",
       "256                         Región de Los Lagos             Palena   \n",
       "128   Aysén del General Carlos Ibáñez del Campo       Capitán Prat   \n",
       "111  Aysén del general Carlos Ibañez del Campo.      Capítán Prat.   \n",
       "218  Aysén del General Carlos Ibáñez del Campo.         Coyhaique.   \n",
       "130   Aysén del General Carlos Ibáñez del Campo    General Carrera   \n",
       "12           De Magallanes y Antártica Chilena.  Tierra del Fuego.   \n",
       "118  Aysén del General Carlos Ibañez del Campo.      Capitán Prat.   \n",
       "110  Aysén del general Carlos Ibañez del Campo.      Capítán Prat.   \n",
       "\n",
       "          Comuna                                      Observaciones  \n",
       "112    Cochrane.  La cumbre del Monte San Lorenzo o Cochrane se ...  \n",
       "129     Cochrane  El Hito Natural Pico Triangular Sur se encuent...  \n",
       "256    Futaleufú  El hito Natural Co. Cónico fue declarado así e...  \n",
       "128     Cochrane  El Hito Natural Cerro Baker se encuentra en la...  \n",
       "111    Cochrane.  La cumbre del Cerro W se encuentra en la divis...  \n",
       "218   Lago Verde  El Hito Natural VI-38 “Cerro Steffen\" se encue...  \n",
       "130  Chile Chico  El Hito Natural Cerro Águila se encuentra en l...  \n",
       "12     Porvenir.  El hito se encuentra ubicado aproximadamente a...  \n",
       "118    Cochrane.  El Hito Natural Cerro Brown se encuentra en el...  \n",
       "110    Cochrane.  La cumbre del Cerro Tres Hermanos Sur se encue...  "
      ]
     },
     "execution_count": 22,
     "metadata": {},
     "output_type": "execute_result"
    }
   ],
   "source": [
    "Sorted.head(10)"
   ]
  },
  {
   "cell_type": "markdown",
   "metadata": {},
   "source": [
    "Cuál es el hito con la mayor cota? y luego, ese hito tiene alguna repetición?"
   ]
  },
  {
   "cell_type": "code",
   "execution_count": 23,
   "metadata": {},
   "outputs": [
    {
     "data": {
      "text/plain": [
       "Int64Index([112, 129, 256, 128, 111, 218, 130,  12, 118, 110,\n",
       "            ...\n",
       "              0,  27,  25,  24,   9,   7,   8,  30,  26, 214],\n",
       "           dtype='int64', length=283)"
      ]
     },
     "execution_count": 23,
     "metadata": {},
     "output_type": "execute_result"
    }
   ],
   "source": [
    "Sorted.index"
   ]
  },
  {
   "cell_type": "code",
   "execution_count": 24,
   "metadata": {},
   "outputs": [
    {
     "data": {
      "text/plain": [
       "RangeIndex(start=0, stop=283, step=1)"
      ]
     },
     "execution_count": 24,
     "metadata": {},
     "output_type": "execute_result"
    }
   ],
   "source": [
    "hitosChile.index"
   ]
  },
  {
   "cell_type": "code",
   "execution_count": 25,
   "metadata": {},
   "outputs": [
    {
     "data": {
      "text/plain": [
       "112"
      ]
     },
     "execution_count": 25,
     "metadata": {},
     "output_type": "execute_result"
    }
   ],
   "source": [
    "Sorted.index[0]"
   ]
  },
  {
   "cell_type": "code",
   "execution_count": 26,
   "metadata": {},
   "outputs": [],
   "source": [
    "mayorCota = hitosChile.xs(Sorted.index[0])"
   ]
  },
  {
   "cell_type": "code",
   "execution_count": 27,
   "metadata": {},
   "outputs": [
    {
     "data": {
      "text/plain": [
       "'Monte San Lorenzo o Cochrane'"
      ]
     },
     "execution_count": 27,
     "metadata": {},
     "output_type": "execute_result"
    }
   ],
   "source": [
    "mayorCota['Hito']"
   ]
  },
  {
   "cell_type": "markdown",
   "metadata": {},
   "source": [
    "Otros hitos con Monte San Lorenzo...."
   ]
  },
  {
   "cell_type": "code",
   "execution_count": 28,
   "metadata": {},
   "outputs": [],
   "source": [
    "conjuntoHitosdelMayor = hitosChile[hitosChile['Hito'] == mayorCota['Hito']]"
   ]
  },
  {
   "cell_type": "code",
   "execution_count": 29,
   "metadata": {},
   "outputs": [
    {
     "data": {
      "text/html": [
       "<div>\n",
       "<style scoped>\n",
       "    .dataframe tbody tr th:only-of-type {\n",
       "        vertical-align: middle;\n",
       "    }\n",
       "\n",
       "    .dataframe tbody tr th {\n",
       "        vertical-align: top;\n",
       "    }\n",
       "\n",
       "    .dataframe thead th {\n",
       "        text-align: right;\n",
       "    }\n",
       "</style>\n",
       "<table border=\"1\" class=\"dataframe\">\n",
       "  <thead>\n",
       "    <tr style=\"text-align: right;\">\n",
       "      <th></th>\n",
       "      <th>Seccion</th>\n",
       "      <th>Hito</th>\n",
       "      <th>Tipo</th>\n",
       "      <th>FechaEreccion</th>\n",
       "      <th>LatitudAprox</th>\n",
       "      <th>LongitudAprox</th>\n",
       "      <th>CotaSueloAprox</th>\n",
       "      <th>Datum</th>\n",
       "      <th>Region</th>\n",
       "      <th>Provincia</th>\n",
       "      <th>Comuna</th>\n",
       "      <th>Observaciones</th>\n",
       "    </tr>\n",
       "  </thead>\n",
       "  <tbody>\n",
       "    <tr>\n",
       "      <th>112</th>\n",
       "      <td>V</td>\n",
       "      <td>Monte San Lorenzo o Cochrane</td>\n",
       "      <td>Hito Natural, Monte San Lorenzo o Cochrane.</td>\n",
       "      <td>Declarado Hito Natural el 2 de abril de 1946.</td>\n",
       "      <td>47° 35' 32'' S</td>\n",
       "      <td>72° 18' 31'' O</td>\n",
       "      <td>3706.0</td>\n",
       "      <td>Extremo Sur Base Lago Belgrano.</td>\n",
       "      <td>Aysén del General Carlos Ibáñez del Campo.</td>\n",
       "      <td>Capitán Prat.</td>\n",
       "      <td>Cochrane.</td>\n",
       "      <td>La cumbre del Monte San Lorenzo o Cochrane se ...</td>\n",
       "    </tr>\n",
       "  </tbody>\n",
       "</table>\n",
       "</div>"
      ],
      "text/plain": [
       "    Seccion                          Hito  \\\n",
       "112       V  Monte San Lorenzo o Cochrane   \n",
       "\n",
       "                                            Tipo  \\\n",
       "112  Hito Natural, Monte San Lorenzo o Cochrane.   \n",
       "\n",
       "                                     FechaEreccion    LatitudAprox  \\\n",
       "112  Declarado Hito Natural el 2 de abril de 1946.  47° 35' 32'' S   \n",
       "\n",
       "      LongitudAprox  CotaSueloAprox                            Datum  \\\n",
       "112  72° 18' 31'' O          3706.0  Extremo Sur Base Lago Belgrano.   \n",
       "\n",
       "                                         Region      Provincia     Comuna  \\\n",
       "112  Aysén del General Carlos Ibáñez del Campo.  Capitán Prat.  Cochrane.   \n",
       "\n",
       "                                         Observaciones  \n",
       "112  La cumbre del Monte San Lorenzo o Cochrane se ...  "
      ]
     },
     "execution_count": 29,
     "metadata": {},
     "output_type": "execute_result"
    }
   ],
   "source": [
    "conjuntoHitosdelMayor"
   ]
  },
  {
   "cell_type": "markdown",
   "metadata": {},
   "source": [
    "**TAREA** : Ahora el hito con la menor cota, segun su tipo, crear un nuevo grupo."
   ]
  },
  {
   "cell_type": "markdown",
   "metadata": {},
   "source": [
    "Promedio en los hitos"
   ]
  },
  {
   "cell_type": "code",
   "execution_count": 30,
   "metadata": {},
   "outputs": [
    {
     "data": {
      "text/plain": [
       "730.8031914893619"
      ]
     },
     "execution_count": 30,
     "metadata": {},
     "output_type": "execute_result"
    }
   ],
   "source": [
    "hitosChile['CotaSueloAprox'].mean()"
   ]
  },
  {
   "cell_type": "markdown",
   "metadata": {},
   "source": [
    "## GRAFICAR "
   ]
  },
  {
   "cell_type": "code",
   "execution_count": 33,
   "metadata": {},
   "outputs": [
    {
     "name": "stdout",
     "output_type": "stream",
     "text": [
      "El hito mas alto\n"
     ]
    },
    {
     "data": {
      "text/html": [
       "<div>\n",
       "<style scoped>\n",
       "    .dataframe tbody tr th:only-of-type {\n",
       "        vertical-align: middle;\n",
       "    }\n",
       "\n",
       "    .dataframe tbody tr th {\n",
       "        vertical-align: top;\n",
       "    }\n",
       "\n",
       "    .dataframe thead th {\n",
       "        text-align: right;\n",
       "    }\n",
       "</style>\n",
       "<table border=\"1\" class=\"dataframe\">\n",
       "  <thead>\n",
       "    <tr style=\"text-align: right;\">\n",
       "      <th></th>\n",
       "      <th>Hito</th>\n",
       "      <th>Tipo</th>\n",
       "      <th>FechaEreccion</th>\n",
       "      <th>LatitudAprox</th>\n",
       "      <th>LongitudAprox</th>\n",
       "      <th>CotaSueloAprox</th>\n",
       "      <th>Datum</th>\n",
       "      <th>Region</th>\n",
       "      <th>Provincia</th>\n",
       "      <th>Comuna</th>\n",
       "      <th>Observaciones</th>\n",
       "    </tr>\n",
       "    <tr>\n",
       "      <th>Seccion</th>\n",
       "      <th></th>\n",
       "      <th></th>\n",
       "      <th></th>\n",
       "      <th></th>\n",
       "      <th></th>\n",
       "      <th></th>\n",
       "      <th></th>\n",
       "      <th></th>\n",
       "      <th></th>\n",
       "      <th></th>\n",
       "      <th></th>\n",
       "    </tr>\n",
       "  </thead>\n",
       "  <tbody>\n",
       "    <tr>\n",
       "      <th>V</th>\n",
       "      <td>Monte San Lorenzo o Cochrane</td>\n",
       "      <td>Hito Natural, Monte San Lorenzo o Cochrane.</td>\n",
       "      <td>Declarado Hito Natural el 2 de abril de 1946.</td>\n",
       "      <td>47° 35' 32'' S</td>\n",
       "      <td>72° 18' 31'' O</td>\n",
       "      <td>3706.0</td>\n",
       "      <td>Extremo Sur Base Lago Belgrano.</td>\n",
       "      <td>Aysén del General Carlos Ibáñez del Campo.</td>\n",
       "      <td>Capitán Prat.</td>\n",
       "      <td>Cochrane.</td>\n",
       "      <td>La cumbre del Monte San Lorenzo o Cochrane se ...</td>\n",
       "    </tr>\n",
       "  </tbody>\n",
       "</table>\n",
       "</div>"
      ],
      "text/plain": [
       "                                 Hito  \\\n",
       "Seccion                                 \n",
       "V        Monte San Lorenzo o Cochrane   \n",
       "\n",
       "                                                Tipo  \\\n",
       "Seccion                                                \n",
       "V        Hito Natural, Monte San Lorenzo o Cochrane.   \n",
       "\n",
       "                                         FechaEreccion    LatitudAprox  \\\n",
       "Seccion                                                                  \n",
       "V        Declarado Hito Natural el 2 de abril de 1946.  47° 35' 32'' S   \n",
       "\n",
       "          LongitudAprox  CotaSueloAprox                            Datum  \\\n",
       "Seccion                                                                    \n",
       "V        72° 18' 31'' O          3706.0  Extremo Sur Base Lago Belgrano.   \n",
       "\n",
       "                                             Region      Provincia     Comuna  \\\n",
       "Seccion                                                                         \n",
       "V        Aysén del General Carlos Ibáñez del Campo.  Capitán Prat.  Cochrane.   \n",
       "\n",
       "                                             Observaciones  \n",
       "Seccion                                                     \n",
       "V        La cumbre del Monte San Lorenzo o Cochrane se ...  "
      ]
     },
     "execution_count": 33,
     "metadata": {},
     "output_type": "execute_result"
    },
    {
     "data": {
      "image/png": "[encoded data removed]",
      "text/plain": [
       "<matplotlib.figure.Figure at 0x111c5add8>"
      ]
     },
     "metadata": {},
     "output_type": "display_data"
    }
   ],
   "source": [
    "import matplotlib.pyplot as plt #biblioteca para hacer graficos\n",
    "\n",
    "# Crea un grafico\n",
    "hitosChile['CotaSueloAprox'].plot()\n",
    "\n",
    "# Valor maximo de la cota\n",
    "MaxValue = hitosChile['CotaSueloAprox'].max()\n",
    "\n",
    "# Hito asociado a la cota maxima\n",
    "MaxName = hitosChile['Hito'][hitosChile['CotaSueloAprox'] == hitosChile['CotaSueloAprox'].max()].values\n",
    "\n",
    "# Texto para mostrar en el grafico\n",
    "Text = str(MaxValue) + \" - \" + MaxName\n",
    "\n",
    "# Agrega el texto al grafico\n",
    "plt.annotate(Text, xy=(1, MaxValue), xytext=(8, 0), \n",
    "                 xycoords=('axes fraction', 'data'), textcoords='offset points')\n",
    "\n",
    "print(\"El hito mas alto\")\n",
    "hitosChile[hitosChile['CotaSueloAprox'] == hitosChile['CotaSueloAprox'].max()]\n",
    "#Sorted.head(1) can also be used"
   ]
  },
  {
   "cell_type": "code",
   "execution_count": 32,
   "metadata": {},
   "outputs": [
    {
     "data": {
      "text/plain": [
       "Region\n",
       "Aysén del General Carlos Ibañez del Campo.    AxesSubplot(0.125,0.125;0.775x0.755)\n",
       "Aysén del General Carlos Ibáñez del Campo     AxesSubplot(0.125,0.125;0.775x0.755)\n",
       "Aysén del General Carlos Ibáñez del Campo.    AxesSubplot(0.125,0.125;0.775x0.755)\n",
       "Aysén del general Carlos Ibañez del Campo.    AxesSubplot(0.125,0.125;0.775x0.755)\n",
       "De Magallanes y Antártica Chilena.            AxesSubplot(0.125,0.125;0.775x0.755)\n",
       "Región de Los Lagos                           AxesSubplot(0.125,0.125;0.775x0.755)\n",
       "Name: CotaSueloAprox, dtype: object"
      ]
     },
     "execution_count": 32,
     "metadata": {},
     "output_type": "execute_result"
    },
    {
     "data": {
      "image/png": "[encoded data removed]",
      "text/plain": [
       "<matplotlib.figure.Figure at 0x1062d37b8>"
      ]
     },
     "metadata": {},
     "output_type": "display_data"
    }
   ],
   "source": [
    "hitosChile.set_index('Seccion', inplace=True)\n",
    "\n",
    "hitosChile.groupby('Region')['CotaSueloAprox'].plot(legend=True)"
   ]
  }
 ],
 "metadata": {
  "kernelspec": {
   "display_name": "Python 3",
   "language": "python",
   "name": "python3"
  },
  "language_info": {
   "codemirror_mode": {
    "name": "ipython",
    "version": 3
   },
   "file_extension": ".py",
   "mimetype": "text/x-python",
   "name": "python",
   "nbconvert_exporter": "python",
   "pygments_lexer": "ipython3",
   "version": "3.6.4"
  }
 },
 "nbformat": 4,
 "nbformat_minor": 2
}
