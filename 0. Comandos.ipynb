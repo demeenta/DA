{
 "cells": [
  {
   "cell_type": "markdown",
   "metadata": {},
   "source": [
    "# Comandos y atajos de teclado para Jupyter"
   ]
  },
  {
   "cell_type": "markdown",
   "metadata": {},
   "source": [
    " Las celdas de texto pueden tener un heading de nivel 1 hasta 6. Con un # y hasta seis # al inicio.\n",
    "- # heading 1\n",
    "- ## heading 2\n",
    "- ### heading 3\n",
    "- #### heading 4\n",
    "- ##### heading 5\n",
    "- ###### heading 6\n"
   ]
  },
  {
   "cell_type": "markdown",
   "metadata": {},
   "source": [
    "## Celdas"
   ]
  },
  {
   "cell_type": "markdown",
   "metadata": {},
   "source": [
    "#### Modo comando"
   ]
  },
  {
   "cell_type": "markdown",
   "metadata": {},
   "source": [
    "ESC : Entra en modo comando. La más importante, para poder ejecutar un comando se debe presionar antes!"
   ]
  },
  {
   "cell_type": "markdown",
   "metadata": {},
   "source": [
    "#### Ejecutar celda"
   ]
  },
  {
   "cell_type": "markdown",
   "metadata": {},
   "source": [
    "Shift + Enter : Ejecuta la celda y selecciona la siguiente."
   ]
  },
  {
   "cell_type": "markdown",
   "metadata": {},
   "source": [
    "Ctrl + Enter : Ejecuta la celda."
   ]
  },
  {
   "cell_type": "markdown",
   "metadata": {},
   "source": [
    "#### Tipo de celda"
   ]
  },
  {
   "cell_type": "markdown",
   "metadata": {},
   "source": [
    "m : En modo comando, cambia la celda a tipo markdown (texto)."
   ]
  },
  {
   "cell_type": "markdown",
   "metadata": {},
   "source": [
    "y : Celda tipo código."
   ]
  },
  {
   "cell_type": "markdown",
   "metadata": {},
   "source": [
    "r : Celda tipo raw"
   ]
  },
  {
   "cell_type": "markdown",
   "metadata": {},
   "source": [
    "a : Inserta celda arriba"
   ]
  },
  {
   "cell_type": "markdown",
   "metadata": {},
   "source": [
    "b : Inserta celda abajo"
   ]
  },
  {
   "cell_type": "markdown",
   "metadata": {},
   "source": [
    "dd : Borra la celda"
   ]
  },
  {
   "cell_type": "markdown",
   "metadata": {},
   "source": [
    "## Formato de texto"
   ]
  },
  {
   "cell_type": "markdown",
   "metadata": {},
   "source": [
    "** negrita ** : \\*\\* negrita \\*\\*"
   ]
  },
  {
   "cell_type": "code",
   "execution_count": null,
   "metadata": {},
   "outputs": [],
   "source": []
  }
 ],
 "metadata": {
  "kernelspec": {
   "display_name": "Python 3",
   "language": "python",
   "name": "python3"
  },
  "language_info": {
   "codemirror_mode": {
    "name": "ipython",
    "version": 3
   },
   "file_extension": ".py",
   "mimetype": "text/x-python",
   "name": "python",
   "nbconvert_exporter": "python",
   "pygments_lexer": "ipython3",
   "version": "3.6.4"
  }
 },
 "nbformat": 4,
 "nbformat_minor": 2
}
